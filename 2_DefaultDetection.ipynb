{
 "cells": [
  {
   "cell_type": "markdown",
   "metadata": {},
   "source": [
    "# Задача\n",
    "\n",
    "Во вложении sample.xlsx содержится таблица с данными по 5000 клиентов в следующей кодификации:                                                \n",
    "No : Порядковый номер клиента                \n",
    "predictor1-5* : Фичи (предикторы) по которым необходимо построить модель. Все переменные являются количественными.\n",
    "Target : Целевая бинарная переменная, обозначающая факт дефолта клиента    \n",
    "Задача: Необходимо построить модель, позволяющую предсказывать вероятность дефолта клиента. Предлагается построить 2 конкурирующие модели (например, логистическая регрессия и дерево решений) и произвести выбор наилучшей модели на основе предложенного вами показателя качества.   "
   ]
  },
  {
   "cell_type": "code",
   "execution_count": 1,
   "metadata": {},
   "outputs": [],
   "source": [
    "import pandas as pd\n",
    "import numpy as np\n",
    "import matplotlib.pyplot as plt"
   ]
  },
  {
   "cell_type": "markdown",
   "metadata": {},
   "source": [
    "### Загрузка данных"
   ]
  },
  {
   "cell_type": "code",
   "execution_count": 2,
   "metadata": {},
   "outputs": [
    {
     "name": "stdout",
     "output_type": "stream",
     "text": [
      "<class 'pandas.core.frame.DataFrame'>\n",
      "Int64Index: 10000 entries, 1 to 10000\n",
      "Data columns (total 6 columns):\n",
      " #   Column       Non-Null Count  Dtype  \n",
      "---  ------       --------------  -----  \n",
      " 0   predictor 1  10000 non-null  int64  \n",
      " 1   predictor 2  10000 non-null  int64  \n",
      " 2   predictor 3  8087 non-null   float64\n",
      " 3   predictor 4  10000 non-null  int64  \n",
      " 4   predictor 5  10000 non-null  float64\n",
      " 5   target       10000 non-null  int64  \n",
      "dtypes: float64(2), int64(4)\n",
      "memory usage: 546.9 KB\n"
     ]
    }
   ],
   "source": [
    "df = pd.read_excel('sample.xlsx', index_col='No')\n",
    "df.info()"
   ]
  },
  {
   "cell_type": "code",
   "execution_count": 3,
   "metadata": {},
   "outputs": [
    {
     "data": {
      "image/png": "[encoded data removed]",
      "text/plain": [
       "<Figure size 864x576 with 6 Axes>"
      ]
     },
     "metadata": {
      "needs_background": "light"
     },
     "output_type": "display_data"
    }
   ],
   "source": [
    "df.hist(figsize=(12, 8));"
   ]
  },
  {
   "cell_type": "markdown",
   "metadata": {},
   "source": [
    "### Выбор показателей качества\n",
    "Так как нас больше всего интересуют обнаруженные моделью дефолты (true positive), то Recall будет хорошим показателем. Применять его будем в комбинации с Precision, чтобы понимать, как много ошибочных дефолтов модель прогнозирует.\n",
    "\n",
    "Так как у меня нет информации о том, какой баланс Precision/Recall будет являеться оптимальным, то основной метрикой будет использована ROC AUC score. Её часто применяют в задачах, где положительный класс в меньшинстве.\n",
    "\n",
    "Основная метрика: ROC AUC score. \n",
    "Дополнительные: Recall, Precision"
   ]
  },
  {
   "cell_type": "code",
   "execution_count": 4,
   "metadata": {},
   "outputs": [],
   "source": [
    "from sklearn.metrics import roc_auc_score, precision_score, recall_score\n",
    "from sklearn.model_selection import cross_validate\n",
    "from sklearn.metrics import make_scorer\n",
    "\n",
    "metrics = [roc_auc_score, precision_score, recall_score]\n",
    "METRICS_NAMES = [\"Roc_AUC\", \"precision\", \"recall\"]\n",
    "scoring_metrics = {}\n",
    "for metric_name, metric in zip(METRICS_NAMES, metrics):\n",
    "    scoring_metrics[metric_name] = make_scorer(metric)"
   ]
  },
  {
   "cell_type": "code",
   "execution_count": 5,
   "metadata": {},
   "outputs": [],
   "source": [
    "def display_scores(model, X, y, fit_params=None):\n",
    "    \"\"\"\n",
    "    Takes (model, X, y) and after performing cross validation prints out metrics\n",
    "    \"\"\"\n",
    "    print(\"Fitting model\")\n",
    "    scores = cross_validate(model, X, y, cv=5,\n",
    "                    scoring=scoring_metrics,\n",
    "                    return_train_score=True,\n",
    "                    n_jobs=-1,\n",
    "                    fit_params=fit_params)\n",
    "\n",
    "    for step in [\"test_\", \"train_\"]:\n",
    "        print(\"---------------\")\n",
    "        for metr_name in METRICS_NAMES:\n",
    "            key = step + metr_name\n",
    "            print(\"{} {} = {}\".format(step[:-1], metr_name, scores[key].mean()))\n",
    "    \n",
    "    return scores"
   ]
  },
  {
   "cell_type": "markdown",
   "metadata": {},
   "source": [
    "### Подготовка данных.\n",
    "\n",
    "Мы можем увидеть, что в колонке с предиктором 3 имеются нулевые значения. Метод заполнения определим экспериментально.\n",
    "\n",
    "Также имеется дисбаланс классов, но я не буду применять дополнительных методов (например взятия выборок) для его сокращения. Вместо этого мы будем добавлять вес к положительному классу в моделях.\n",
    "\n",
    "Так как оценку во время экспериментов я буду проводить методом кросс валидации, разделим данные только на тренировочный и тест сеты."
   ]
  },
  {
   "cell_type": "code",
   "execution_count": 6,
   "metadata": {},
   "outputs": [
    {
     "data": {
      "text/plain": [
       "((8000, 5), (2000, 5))"
      ]
     },
     "execution_count": 6,
     "metadata": {},
     "output_type": "execute_result"
    }
   ],
   "source": [
    "from sklearn.model_selection import train_test_split\n",
    "\n",
    "X = df.drop(columns=['target'])\n",
    "y = df['target']\n",
    "\n",
    "X_train, X_test, y_train, y_test = train_test_split(X, y, \n",
    "                                                   test_size=0.2,\n",
    "                                                   stratify=y,\n",
    "                                                   random_state=99)\n",
    "X_train.shape, X_test.shape"
   ]
  },
  {
   "cell_type": "code",
   "execution_count": 7,
   "metadata": {},
   "outputs": [
    {
     "data": {
      "text/html": [
       "<div>\n",
       "<style scoped>\n",
       "    .dataframe tbody tr th:only-of-type {\n",
       "        vertical-align: middle;\n",
       "    }\n",
       "\n",
       "    .dataframe tbody tr th {\n",
       "        vertical-align: top;\n",
       "    }\n",
       "\n",
       "    .dataframe thead th {\n",
       "        text-align: right;\n",
       "    }\n",
       "</style>\n",
       "<table border=\"1\" class=\"dataframe\">\n",
       "  <thead>\n",
       "    <tr style=\"text-align: right;\">\n",
       "      <th></th>\n",
       "      <th>predictor 1</th>\n",
       "      <th>predictor 2</th>\n",
       "      <th>predictor 3</th>\n",
       "      <th>predictor 4</th>\n",
       "      <th>predictor 5</th>\n",
       "    </tr>\n",
       "    <tr>\n",
       "      <th>No</th>\n",
       "      <th></th>\n",
       "      <th></th>\n",
       "      <th></th>\n",
       "      <th></th>\n",
       "      <th></th>\n",
       "    </tr>\n",
       "  </thead>\n",
       "  <tbody>\n",
       "    <tr>\n",
       "      <th>7599</th>\n",
       "      <td>22308</td>\n",
       "      <td>1106</td>\n",
       "      <td>404.0</td>\n",
       "      <td>1</td>\n",
       "      <td>2844.0</td>\n",
       "    </tr>\n",
       "    <tr>\n",
       "      <th>7941</th>\n",
       "      <td>12179</td>\n",
       "      <td>1106</td>\n",
       "      <td>361.5</td>\n",
       "      <td>5</td>\n",
       "      <td>212.0</td>\n",
       "    </tr>\n",
       "    <tr>\n",
       "      <th>7608</th>\n",
       "      <td>314</td>\n",
       "      <td>1076</td>\n",
       "      <td>280.5</td>\n",
       "      <td>9</td>\n",
       "      <td>1020.0</td>\n",
       "    </tr>\n",
       "    <tr>\n",
       "      <th>6504</th>\n",
       "      <td>10493</td>\n",
       "      <td>1148</td>\n",
       "      <td>357.0</td>\n",
       "      <td>3</td>\n",
       "      <td>4609.0</td>\n",
       "    </tr>\n",
       "    <tr>\n",
       "      <th>8678</th>\n",
       "      <td>12034</td>\n",
       "      <td>916</td>\n",
       "      <td>434.0</td>\n",
       "      <td>3</td>\n",
       "      <td>804.0</td>\n",
       "    </tr>\n",
       "  </tbody>\n",
       "</table>\n",
       "</div>"
      ],
      "text/plain": [
       "      predictor 1  predictor 2  predictor 3  predictor 4  predictor 5\n",
       "No                                                                   \n",
       "7599        22308         1106        404.0            1       2844.0\n",
       "7941        12179         1106        361.5            5        212.0\n",
       "7608          314         1076        280.5            9       1020.0\n",
       "6504        10493         1148        357.0            3       4609.0\n",
       "8678        12034          916        434.0            3        804.0"
      ]
     },
     "execution_count": 7,
     "metadata": {},
     "output_type": "execute_result"
    }
   ],
   "source": [
    "X_train.head()"
   ]
  },
  {
   "cell_type": "markdown",
   "metadata": {},
   "source": [
    "Добавим пайплайн для препроцессинга. Модели будут использоваться в пайплайнах вместе с подготовкой данных, потому что это помогает избежать утечек целевой переменной и упрощает эксперименты с методами подготовки данных. К тому же, в данном случае данные обрабатываются быстро и постоянная \"переподготовка\" не будет значительно влиять на производительность."
   ]
  },
  {
   "cell_type": "code",
   "execution_count": 8,
   "metadata": {},
   "outputs": [],
   "source": [
    "from sklearn.pipeline import Pipeline\n",
    "from sklearn.preprocessing import StandardScaler\n",
    "from sklearn.impute import SimpleImputer\n",
    "\n",
    "preproc_pipe = Pipeline([('imputer', SimpleImputer(strategy=\"constant\", fill_value=0)),\n",
    "                               ('std_scaler', StandardScaler())])"
   ]
  },
  {
   "cell_type": "markdown",
   "metadata": {},
   "source": [
    "### Логистическая регрессия"
   ]
  },
  {
   "cell_type": "code",
   "execution_count": 11,
   "metadata": {},
   "outputs": [
    {
     "name": "stdout",
     "output_type": "stream",
     "text": [
      "Fitting model\n",
      "---------------\n",
      "test Roc_AUC = 0.6503738257158871\n",
      "test precision = 0.2920046303831616\n",
      "test recall = 0.7320717621037109\n",
      "---------------\n",
      "train Roc_AUC = 0.6523511187129382\n",
      "train precision = 0.2936042488841809\n",
      "train recall = 0.7336952163508809\n"
     ]
    }
   ],
   "source": [
    "from sklearn.linear_model import LogisticRegression\n",
    "LR_pipe = Pipeline([(\"preproc\", preproc_pipe),\n",
    "                 (\"log_reg\", LogisticRegression(class_weight={0:1,1:5}))])\n",
    "LR_scores = display_scores(LR_pipe, X_train, y_train)"
   ]
  },
  {
   "cell_type": "markdown",
   "metadata": {},
   "source": [
    "При балансе классов 1 к 5 мы имеем повышенный Recall. То есть модель обнаруживает до 73% клиентов с дефолтом. Правда ценой очень высокого показателя ложных прогнозов.\n",
    "\n",
    "### RandomForest\n",
    "\n",
    "Проверим RandomForest модель. Чтобы уменьшить оверфит модели, я подобрал параметр max_leaf_nodes перебором (около 3 попыток), более тщательный выбор параметров будет выполнен далее."
   ]
  },
  {
   "cell_type": "code",
   "execution_count": 20,
   "metadata": {},
   "outputs": [
    {
     "name": "stdout",
     "output_type": "stream",
     "text": [
      "Fitting model\n",
      "---------------\n",
      "test Roc_AUC = 0.6562165186991553\n",
      "test precision = 0.31396372060655126\n",
      "test recall = 0.6662263455394446\n",
      "---------------\n",
      "train Roc_AUC = 0.8212151802790364\n",
      "train precision = 0.43202810173353584\n",
      "train recall = 0.9440538304180937\n"
     ]
    }
   ],
   "source": [
    "from sklearn.ensemble import RandomForestClassifier\n",
    "RF_pipe = Pipeline([(\"preproc\", preproc_pipe),\n",
    "                 (\"rand_for\", RandomForestClassifier(max_leaf_nodes=180,\n",
    "                                                     class_weight={0:1,1:7}))])\n",
    "RF_scores = display_scores(RF_pipe, X_train, y_train)"
   ]
  },
  {
   "cell_type": "markdown",
   "metadata": {},
   "source": [
    "Опираясь на test recall, мы можем сказать, что подобная модель корректно идентифицирует до 66% дефолтов. И у 32% указанных моделью клиентов (precision) действительно был дефолт."
   ]
  },
  {
   "cell_type": "code",
   "execution_count": 21,
   "metadata": {},
   "outputs": [],
   "source": [
    "RF_model = Pipeline([(\"preproc\", preproc_pipe),\n",
    "                 (\"rand_for\", RandomForestClassifier(n_estimators=500,\n",
    "                                                     max_leaf_nodes=180,\n",
    "                                                     class_weight={0:1,1:7}))])\n",
    "\n",
    "RF_model.fit(X_train, y_train);"
   ]
  },
  {
   "cell_type": "markdown",
   "metadata": {},
   "source": [
    "На тест сете показатель AUC выглядит немного лучше, то есть мы можем утверждать, что модель не имеет сильного оверфита. "
   ]
  },
  {
   "cell_type": "code",
   "execution_count": 22,
   "metadata": {},
   "outputs": [
    {
     "data": {
      "image/png": "[encoded data removed]",
      "text/plain": [
       "<Figure size 432x288 with 1 Axes>"
      ]
     },
     "metadata": {
      "needs_background": "light"
     },
     "output_type": "display_data"
    }
   ],
   "source": [
    "from sklearn.metrics import plot_roc_curve\n",
    "plot_roc_curve(RF_model, X_test, y_test);"
   ]
  },
  {
   "cell_type": "markdown",
   "metadata": {},
   "source": [
    "Модель, конечно, совершает много ошибок. Как и ожидалось, большинство ошибок в ложном определении дефолта клиента, это обусловлено регулировкой весов функции потерь модели."
   ]
  },
  {
   "cell_type": "code",
   "execution_count": 23,
   "metadata": {},
   "outputs": [
    {
     "data": {
      "image/png": "[encoded data removed]",
      "text/plain": [
       "<Figure size 432x288 with 2 Axes>"
      ]
     },
     "metadata": {
      "needs_background": "light"
     },
     "output_type": "display_data"
    }
   ],
   "source": [
    "from sklearn.metrics import plot_confusion_matrix\n",
    "plot_confusion_matrix(RF_model, X_test, y_test);"
   ]
  },
  {
   "cell_type": "markdown",
   "metadata": {},
   "source": [
    "Взглянем на вклад отдельных предикторов"
   ]
  },
  {
   "cell_type": "code",
   "execution_count": 24,
   "metadata": {},
   "outputs": [
    {
     "name": "stdout",
     "output_type": "stream",
     "text": [
      "Feature ranking:\n",
      "1. feature 2 (0.297384)\n",
      "2. feature 1 (0.284254)\n",
      "3. feature 4 (0.165991)\n",
      "4. feature 0 (0.160266)\n",
      "5. feature 3 (0.092104)\n"
     ]
    },
    {
     "data": {
      "image/png": "[encoded data removed]",
      "text/plain": [
       "<Figure size 432x288 with 1 Axes>"
      ]
     },
     "metadata": {
      "needs_background": "light"
     },
     "output_type": "display_data"
    }
   ],
   "source": [
    "forest = RF_model[\"rand_for\"]\n",
    "importances = forest.feature_importances_\n",
    "\n",
    "std = np.std([tree.feature_importances_ for tree in forest.estimators_],\n",
    "             axis=0)\n",
    "indices = np.argsort(importances)[::-1]\n",
    "# Print the feature ranking\n",
    "print(\"Feature ranking:\")\n",
    "for f in range(X.shape[1]):\n",
    "    print(\"%d. feature %d (%f)\" % (f + 1, indices[f], importances[indices[f]]))\n",
    "# Plot the impurity-based feature importances of the forest\n",
    "plt.figure()\n",
    "plt.title(\"Feature importances\")\n",
    "plt.bar(range(X.shape[1]), importances[indices],\n",
    "        color=\"r\", yerr=std[indices], align=\"center\")\n",
    "plt.xticks(range(X.shape[1]), indices)\n",
    "plt.xlim([-1, X.shape[1]])\n",
    "plt.show()"
   ]
  },
  {
   "cell_type": "markdown",
   "metadata": {},
   "source": [
    "Похоже все данные участвуют в прогнозе.\n",
    "Так как у меня нет никакой информации о данных, пытаться генерировать новые предикторы представляется затруднительным. \n",
    "Я попробовал применить PolynomialFeatures и SVM для увелечения размерности датасета, но в данном случае это не приносит положительных результатов.\n",
    "\n",
    "### XGBoost\n",
    "Далее используем XGBClassifier и применим к нему случайный поиск параметров."
   ]
  },
  {
   "cell_type": "code",
   "execution_count": 25,
   "metadata": {},
   "outputs": [
    {
     "name": "stdout",
     "output_type": "stream",
     "text": [
      "Fitting 5 folds for each of 100 candidates, totalling 500 fits\n"
     ]
    },
    {
     "name": "stderr",
     "output_type": "stream",
     "text": [
      "[Parallel(n_jobs=4)]: Using backend LokyBackend with 4 concurrent workers.\n",
      "[Parallel(n_jobs=4)]: Done  42 tasks      | elapsed:   13.8s\n",
      "[Parallel(n_jobs=4)]: Done 192 tasks      | elapsed:  1.1min\n",
      "[Parallel(n_jobs=4)]: Done 442 tasks      | elapsed:  2.3min\n",
      "[Parallel(n_jobs=4)]: Done 500 out of 500 | elapsed:  2.5min finished\n"
     ]
    },
    {
     "data": {
      "text/plain": [
       "RandomizedSearchCV(cv=5,\n",
       "                   estimator=Pipeline(steps=[('preproc',\n",
       "                                              Pipeline(steps=[('imputer',\n",
       "                                                               SimpleImputer(fill_value=0,\n",
       "                                                                             strategy='constant')),\n",
       "                                                              ('std_scaler',\n",
       "                                                               StandardScaler())])),\n",
       "                                             ('xgb',\n",
       "                                              XGBClassifier(learning_rate=0.02,\n",
       "                                                            scale_pos_weight=5,\n",
       "                                                            silent=True))]),\n",
       "                   n_iter=100, n_jobs=4,\n",
       "                   param_distributions={'preproc__imputer__strategy': ['constant',\n",
       "                                                                       'mean',\n",
       "                                                                       'median'],\n",
       "                                        'xgb...\n",
       "                                        'xgb__max_depth': <scipy.stats._distn_infrastructure.rv_frozen object at 0x0000029B56D4CF88>,\n",
       "                                        'xgb__min_child_weight': <scipy.stats._distn_infrastructure.rv_frozen object at 0x0000029B5B303DC8>,\n",
       "                                        'xgb__n_estimators': <scipy.stats._distn_infrastructure.rv_frozen object at 0x0000029B5B303C48>,\n",
       "                                        'xgb__subsample': <scipy.stats._distn_infrastructure.rv_frozen object at 0x0000029B56D4C148>},\n",
       "                   random_state=99, scoring='roc_auc', verbose=1)"
      ]
     },
     "execution_count": 25,
     "metadata": {},
     "output_type": "execute_result"
    }
   ],
   "source": [
    "from sklearn.model_selection import RandomizedSearchCV\n",
    "from scipy.stats import uniform, expon, randint\n",
    "from xgboost import XGBClassifier\n",
    "\n",
    "params = {\n",
    "        'xgb__n_estimators': randint(50, 500),\n",
    "        'xgb__min_child_weight': randint(2, 10),\n",
    "        'xgb__gamma':  expon(scale=.1),\n",
    "        'xgb__subsample': uniform(0.4, 0.5),\n",
    "        'xgb__colsample_bytree': uniform(0.3, 0.7),\n",
    "        'xgb__max_depth': randint(4, 12),\n",
    "        'preproc__imputer__strategy': ['constant', 'mean', 'median']\n",
    "        }\n",
    "xgb = Pipeline([(\"preproc\", preproc_pipe),\n",
    "                (\"xgb\", XGBClassifier(learning_rate=0.02, \n",
    "                                      objective='binary:logistic',\n",
    "                                      silent=True, \n",
    "                                      scale_pos_weight=5))])\n",
    "\n",
    "param_comb = 100\n",
    "\n",
    "random_search = RandomizedSearchCV(xgb, \n",
    "                                   param_distributions=params, \n",
    "                                   n_iter=param_comb, \n",
    "                                   scoring='roc_auc', \n",
    "                                   n_jobs=4, \n",
    "                                   cv=5, \n",
    "                                   verbose=1, \n",
    "                                   random_state=99)\n",
    "\n",
    "random_search.fit(X_train, y_train)"
   ]
  },
  {
   "cell_type": "code",
   "execution_count": 26,
   "metadata": {},
   "outputs": [
    {
     "name": "stdout",
     "output_type": "stream",
     "text": [
      "Precision = 0.3023255813953488\n",
      "Recall = 0.7979539641943734\n",
      "ROC_AUC = 0.7429818523999433\n"
     ]
    }
   ],
   "source": [
    "xgb_y_pred = random_search.best_estimator_.predict(X_test)\n",
    "xgb_y_score = random_search.best_estimator_.predict_proba(X_test)\n",
    "print(\"Precision =\", precision_score(y_test, xgb_y_pred))\n",
    "print(\"Recall =\", recall_score(y_test, xgb_y_pred))\n",
    "print(\"ROC_AUC =\", roc_auc_score(y_test, xgb_y_score[:,1]))"
   ]
  },
  {
   "cell_type": "markdown",
   "metadata": {},
   "source": [
    "На тест сете мы получаем результаты лучше предыдущих.\n",
    "Проведем поиск параметров и для RandomForest."
   ]
  },
  {
   "cell_type": "code",
   "execution_count": 27,
   "metadata": {},
   "outputs": [
    {
     "name": "stdout",
     "output_type": "stream",
     "text": [
      "Fitting 5 folds for each of 100 candidates, totalling 500 fits\n"
     ]
    },
    {
     "name": "stderr",
     "output_type": "stream",
     "text": [
      "[Parallel(n_jobs=4)]: Using backend LokyBackend with 4 concurrent workers.\n",
      "[Parallel(n_jobs=4)]: Done  42 tasks      | elapsed:   17.0s\n",
      "[Parallel(n_jobs=4)]: Done 192 tasks      | elapsed:  1.7min\n",
      "[Parallel(n_jobs=4)]: Done 442 tasks      | elapsed:  3.4min\n",
      "[Parallel(n_jobs=4)]: Done 500 out of 500 | elapsed:  4.0min finished\n"
     ]
    },
    {
     "data": {
      "text/plain": [
       "RandomizedSearchCV(cv=5,\n",
       "                   estimator=Pipeline(steps=[('preproc',\n",
       "                                              Pipeline(steps=[('imputer',\n",
       "                                                               SimpleImputer(fill_value=0,\n",
       "                                                                             strategy='constant')),\n",
       "                                                              ('std_scaler',\n",
       "                                                               StandardScaler())])),\n",
       "                                             ('forest',\n",
       "                                              RandomForestClassifier(class_weight={0: 1,\n",
       "                                                                                   1: 5}))]),\n",
       "                   n_iter=100, n_jobs=4,\n",
       "                   param_distributions={'forest__max_depth': <scipy.stats._distn_infrastructure.rv_frozen object at 0x000...\n",
       "                                        'forest__max_leaf_nodes': <scipy.stats._distn_infrastructure.rv_frozen object at 0x0000029B5B339808>,\n",
       "                                        'forest__min_samples_split': <scipy.stats._distn_infrastructure.rv_frozen object at 0x0000029B5B316048>,\n",
       "                                        'forest__n_estimators': <scipy.stats._distn_infrastructure.rv_frozen object at 0x0000029B5B339E88>,\n",
       "                                        'preproc__imputer__strategy': ['constant',\n",
       "                                                                       'mean',\n",
       "                                                                       'median']},\n",
       "                   random_state=99, scoring='roc_auc', verbose=1)"
      ]
     },
     "execution_count": 27,
     "metadata": {},
     "output_type": "execute_result"
    }
   ],
   "source": [
    "params = {\n",
    "        'forest__n_estimators': randint(50, 500),\n",
    "        'forest__max_leaf_nodes': randint(50, 200),\n",
    "        'forest__max_depth': randint(3, 20),\n",
    "        'forest__min_samples_split': randint(3, 20),\n",
    "        'preproc__imputer__strategy': ['constant', 'mean', 'median']\n",
    "        }\n",
    "\n",
    "rfc = Pipeline([(\"preproc\", preproc_pipe),\n",
    "                 (\"forest\", RandomForestClassifier(class_weight={0:1,1:5}))])\n",
    "\n",
    "param_comb = 100\n",
    "\n",
    "random_search_f = RandomizedSearchCV(rfc, \n",
    "                                   param_distributions=params, \n",
    "                                   n_iter=param_comb, \n",
    "                                   scoring='roc_auc', \n",
    "                                   n_jobs=4, \n",
    "                                   cv=5, \n",
    "                                   verbose=1, \n",
    "                                   random_state=99)\n",
    "\n",
    "random_search_f.fit(X_train, y_train)"
   ]
  },
  {
   "cell_type": "code",
   "execution_count": 28,
   "metadata": {},
   "outputs": [
    {
     "name": "stdout",
     "output_type": "stream",
     "text": [
      "Precision = 0.2984097287184284\n",
      "Recall = 0.8158567774936062\n",
      "ROC_AUC = 0.7402645604408705\n"
     ]
    }
   ],
   "source": [
    "rnf_y_pred = random_search_f.best_estimator_.predict(X_test)\n",
    "rnf_y_score = random_search_f.best_estimator_.predict_proba(X_test)\n",
    "print(\"Precision =\", precision_score(y_test, rnf_y_pred))\n",
    "print(\"Recall =\", recall_score(y_test, rnf_y_pred))\n",
    "print(\"ROC_AUC =\", roc_auc_score(y_test, rnf_y_score[:,1]))"
   ]
  },
  {
   "cell_type": "markdown",
   "metadata": {},
   "source": [
    "### Ensemble\n",
    "\n",
    "Объединим классификаторы в ансамбль."
   ]
  },
  {
   "cell_type": "code",
   "execution_count": 76,
   "metadata": {},
   "outputs": [],
   "source": [
    "from sklearn.ensemble import VotingClassifier\n",
    "\n",
    "# Deleting unnecessary words from best parameters names\n",
    "xgb_best_params = {k[5:]: v for (k, v) in random_search.best_params_.items() \n",
    "                           if not k.startswith('preproc')}\n",
    "rnf_best_params = {k[8:]: v for (k, v) in random_search_f.best_params_.items() \n",
    "                           if not k.startswith('preproc')}\n",
    "\n",
    "\n",
    "log_clf = LogisticRegression(class_weight={0:1,1:5})\n",
    "rnf_clf = RandomForestClassifier(class_weight={0:1,1:5},**rnf_best_params)\n",
    "xgb_clf = XGBClassifier(learning_rate=0.02, scale_pos_weight=5, **xgb_best_params)\n",
    "\n",
    "\n",
    "voting_clf = VotingClassifier(estimators=[('lr', log_clf), \n",
    "                                          ('rnf', rnf_clf), \n",
    "                                          ('xgb', xgb_clf)],\n",
    "                              voting='soft')\n",
    "\n",
    "final_preproc_pipe = Pipeline([('imputer', SimpleImputer(strategy=\"median\")),\n",
    "                               ('std_scaler', StandardScaler())])\n",
    "\n",
    "Vote_pipe = Pipeline([(\"preproc\", final_preproc_pipe),\n",
    "                 (\"rand_for\", voting_clf)])"
   ]
  },
  {
   "cell_type": "code",
   "execution_count": 77,
   "metadata": {},
   "outputs": [
    {
     "name": "stdout",
     "output_type": "stream",
     "text": [
      "Precision = 0.3031458531935176\n",
      "Recall = 0.8132992327365729\n",
      "ROC_AUC = 0.74516744844775\n"
     ]
    },
    {
     "data": {
      "image/png": "[encoded data removed]",
      "text/plain": [
       "<Figure size 432x288 with 1 Axes>"
      ]
     },
     "metadata": {
      "needs_background": "light"
     },
     "output_type": "display_data"
    }
   ],
   "source": [
    "Vote_pipe.fit(X_train, y_train)\n",
    "\n",
    "vote_y_pred = Vote_pipe.predict(X_test)\n",
    "vote_y_score = Vote_pipe.predict_proba(X_test)\n",
    "print(\"Precision =\", precision_score(y_test, vote_y_pred))\n",
    "print(\"Recall =\", recall_score(y_test, vote_y_pred))\n",
    "print(\"ROC_AUC =\", roc_auc_score(y_test, vote_y_score[:,1]))\n",
    "\n",
    "plot_roc_curve(Vote_pipe, X_test, y_test);"
   ]
  },
  {
   "cell_type": "markdown",
   "metadata": {},
   "source": [
    "Похоже мы добились определенного прогресса по сравнению с начальными результатами без поиска параметров. Изобразим график полученных результатов."
   ]
  },
  {
   "cell_type": "code",
   "execution_count": 100,
   "metadata": {},
   "outputs": [],
   "source": [
    "def autolabel(rects):\n",
    "    \"\"\"Attach a text label above each bar in *rects*, displaying its height.\"\"\"\n",
    "    for rect in rects:\n",
    "        height = rect.get_height()\n",
    "        ax.annotate('{}'.format(round(height, 3)),\n",
    "                    xy=(rect.get_x() + rect.get_width() / 2, height),\n",
    "                    xytext=(0, 3),  # 3 points vertical offset\n",
    "                    textcoords=\"offset points\",\n",
    "                    ha='center', va='bottom')"
   ]
  },
  {
   "cell_type": "code",
   "execution_count": 106,
   "metadata": {},
   "outputs": [
    {
     "data": {
      "image/png": "[encoded data removed]",
      "text/plain": [
       "<Figure size 864x288 with 1 Axes>"
      ]
     },
     "metadata": {
      "needs_background": "light"
     },
     "output_type": "display_data"
    }
   ],
   "source": [
    "LR_auc = LR_scores['test_Roc_AUC'].mean()\n",
    "RF_auc = RF_scores['test_Roc_AUC'].mean()\n",
    "XGB_RS_auc = roc_auc_score(y_test, xgb_y_score[:,1])\n",
    "RF_RS_auc = roc_auc_score(y_test, rnf_y_score[:,1])\n",
    "Vote_auc = roc_auc_score(y_test, vote_y_score[:,1])\n",
    "\n",
    "fig, ax = plt.subplots(figsize=(12,4))\n",
    "rects = ax.bar(['LogisticRegression',\n",
    "                'RandomForest',\n",
    "                'XGBC+ParamSearch',\n",
    "                'RandForest+ParamSearch',\n",
    "                'Voting'], \n",
    "        [LR_auc, RF_auc, XGB_RS_auc, RF_RS_auc, Vote_auc])\n",
    "autolabel(rects)\n",
    "ax.set_ylabel('ROC AUC score')\n",
    "ax.set_title('Scores of different models')\n",
    "plt.ylim((0.0, 0.9));"
   ]
  },
  {
   "cell_type": "markdown",
   "metadata": {},
   "source": [
    "### Выводы\n",
    "Похожи наши данные имеют большое количество шума (случайности), что не дает моделям легко распознать признаки дефолта клиента. Но все же модель может корректно подсказывать, на каких клиентов следует обратить больше внимания. К тому же, в зависимости от наших целей, мы можем отредактировать баланс Precision/Recall.\n",
    "\n",
    "Потенциальные улучшения: \n",
    "Провести более тщательный поиск параметров и увеличить количество моделей в ансамбле. \n",
    "Создать модель, которая на основании прогнозов моделей из ансамбля, будет выдавать итоговый прогноз."
   ]
  }
 ],
 "metadata": {
  "kernelspec": {
   "display_name": "tfgpu",
   "language": "python",
   "name": "tfgpu"
  },
  "language_info": {
   "codemirror_mode": {
    "name": "ipython",
    "version": 3
   },
   "file_extension": ".py",
   "mimetype": "text/x-python",
   "name": "python",
   "nbconvert_exporter": "python",
   "pygments_lexer": "ipython3",
   "version": "3.7.9"
  }
 },
 "nbformat": 4,
 "nbformat_minor": 4
}
